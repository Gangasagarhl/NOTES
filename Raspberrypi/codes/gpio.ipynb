{
 "cells": [
  {
   "cell_type": "code",
   "execution_count": 4,
   "id": "a1652d59-d221-4501-85f4-963df07d5f7e",
   "metadata": {},
   "outputs": [
    {
     "name": "stdout",
     "output_type": "stream",
     "text": [
      "Collecting gpiozero\n",
      "  Downloading gpiozero-2.0.1-py3-none-any.whl.metadata (9.9 kB)\n",
      "Collecting colorzero (from gpiozero)\n",
      "  Downloading colorzero-2.0-py2.py3-none-any.whl.metadata (4.1 kB)\n",
      "Requirement already satisfied: setuptools in /home/raghavendra/anaconda3/lib/python3.12/site-packages (from colorzero->gpiozero) (75.1.0)\n",
      "Downloading gpiozero-2.0.1-py3-none-any.whl (150 kB)\n",
      "Downloading colorzero-2.0-py2.py3-none-any.whl (26 kB)\n",
      "Installing collected packages: colorzero, gpiozero\n",
      "Successfully installed colorzero-2.0 gpiozero-2.0.1\n"
     ]
    }
   ],
   "source": [
    "!pip install gpiozero"
   ]
  },
  {
   "cell_type": "code",
   "execution_count": 1,
   "id": "759d8450-97b0-4906-88e5-e36e8f12d8da",
   "metadata": {},
   "outputs": [
    {
     "ename": "ModuleNotFoundError",
     "evalue": "No module named 'gpiozero'",
     "output_type": "error",
     "traceback": [
      "\u001b[0;31m---------------------------------------------------------------------------\u001b[0m",
      "\u001b[0;31mModuleNotFoundError\u001b[0m                       Traceback (most recent call last)",
      "Cell \u001b[0;32mIn[1], line 1\u001b[0m\n\u001b[0;32m----> 1\u001b[0m \u001b[38;5;28;01mfrom\u001b[39;00m \u001b[38;5;21;01mgpiozero\u001b[39;00m \u001b[38;5;28;01mimport\u001b[39;00m LED\n\u001b[1;32m      2\u001b[0m \u001b[38;5;28;01mimport\u001b[39;00m \u001b[38;5;21;01mtime\u001b[39;00m\n",
      "\u001b[0;31mModuleNotFoundError\u001b[0m: No module named 'gpiozero'"
     ]
    }
   ],
   "source": [
    "from gpiozero import LED\n",
    "import time"
   ]
  },
  {
   "cell_type": "code",
   "execution_count": null,
   "id": "e0343b74-b46e-4e2c-a158-3ff0fb80481f",
   "metadata": {},
   "outputs": [],
   "source": [
    "# LED(17), LED(gpio number), \n",
    "led =  LED(17)\n",
    "while True: \n",
    "    led.on()\n",
    "    time.sleep(2)\n",
    "    led.off()\n",
    "    time.sleep(2)\n",
    "    "
   ]
  },
  {
   "cell_type": "code",
   "execution_count": null,
   "id": "23f4b920-1a0d-4a8f-95c4-9b6b92ccb37b",
   "metadata": {},
   "outputs": [],
   "source": []
  },
  {
   "cell_type": "code",
   "execution_count": null,
   "id": "4ea06496-4ad6-46e1-8f4c-d5a1cceaed53",
   "metadata": {},
   "outputs": [],
   "source": []
  }
 ],
 "metadata": {
  "kernelspec": {
   "display_name": "Python 3",
   "language": "python",
   "name": "python3"
  },
  "language_info": {
   "codemirror_mode": {
    "name": "ipython",
    "version": 3
   },
   "file_extension": ".py",
   "mimetype": "text/x-python",
   "name": "python",
   "nbconvert_exporter": "python",
   "pygments_lexer": "ipython3",
   "version": "3.12.7"
  }
 },
 "nbformat": 4,
 "nbformat_minor": 5
}
